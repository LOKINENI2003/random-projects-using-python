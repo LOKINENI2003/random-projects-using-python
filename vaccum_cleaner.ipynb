{
  "nbformat": 4,
  "nbformat_minor": 0,
  "metadata": {
    "colab": {
      "provenance": []
    },
    "kernelspec": {
      "name": "python3",
      "display_name": "Python 3"
    },
    "language_info": {
      "name": "python"
    }
  },
  "cells": [
    {
      "cell_type": "code",
      "execution_count": 1,
      "metadata": {
        "id": "ngAGQDpAoikS"
      },
      "outputs": [],
      "source": [
        "import random\n",
        "def display(room):\n",
        "  print(room)\n",
        "  room=[\n",
        "      [1,1,1,1],\n",
        "      [1,1,1,1],\n",
        "      [1,1,1,1],\n",
        "      [1,1,1,1],\n",
        "  ]\n",
        "  print(\"all the rooms are dirty\")\n",
        "  display(room)\n",
        "  x=0\n",
        "  y=0\n",
        "  while x<4:\n",
        "    while y < 4:\n",
        "      room[x][y]=random.choice([0,1])\n",
        "      y+=1\n",
        "      x+=1\n",
        "      y=0\n",
        "      print(\"before cleaning the room i detect the dirts\")\n",
        "      display(room)\n",
        "      x=0\n",
        "      y=0\n",
        "      z=0\n",
        "      while x<4:\n",
        "        while y<4:\n",
        "          if room[x][y] == 1:\n",
        "            print(\"vaccum in this location now,\",x,y)\n",
        "            room[x][y] = 0\n",
        "            print(\"cleaned\",x,y)\n",
        "            z+=1\n",
        "            y+=1\n",
        "            x+=1\n",
        "            y=0\n",
        "            pro= (100-((z/16)*100))\n",
        "            print(\"room is clean now,thanks for using :sathvik\")\n",
        "            display(room)\n",
        "            print('performance=',pro,'%')"
      ]
    }
  ]
}